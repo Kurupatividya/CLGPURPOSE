{
  "nbformat": 4,
  "nbformat_minor": 0,
  "metadata": {
    "colab": {
      "provenance": [],
      "authorship_tag": "ABX9TyMxETSMJFBFbmErwAM/7Gma",
      "include_colab_link": true
    },
    "kernelspec": {
      "name": "python3",
      "display_name": "Python 3"
    },
    "language_info": {
      "name": "python"
    }
  },
  "cells": [
    {
      "cell_type": "markdown",
      "metadata": {
        "id": "view-in-github",
        "colab_type": "text"
      },
      "source": [
        "<a href=\"https://colab.research.google.com/github/Kurupatividya/CLGPURPOSE/blob/main/XMLDVT.ipynb\" target=\"_parent\"><img src=\"https://colab.research.google.com/assets/colab-badge.svg\" alt=\"Open In Colab\"/></a>"
      ]
    },
    {
      "cell_type": "code",
      "execution_count": null,
      "metadata": {
        "id": "gvBIMAn8y1dp"
      },
      "outputs": [],
      "source": [
        "import xml.etree.ElementTree as ET\n"
      ]
    },
    {
      "cell_type": "code",
      "source": [
        "tree = ET.parse('movies.xml')\n",
        "root = tree.getroot()"
      ],
      "metadata": {
        "id": "sjddq4d6zFtf"
      },
      "execution_count": null,
      "outputs": []
    },
    {
      "cell_type": "code",
      "source": [
        "root.tag\n"
      ],
      "metadata": {
        "colab": {
          "base_uri": "https://localhost:8080/",
          "height": 36
        },
        "id": "YfLu5gPCzIFw",
        "outputId": "20390c6c-2111-4c39-8a5a-46db45f108f0"
      },
      "execution_count": null,
      "outputs": [
        {
          "output_type": "execute_result",
          "data": {
            "text/plain": [
              "'collection'"
            ],
            "application/vnd.google.colaboratory.intrinsic+json": {
              "type": "string"
            }
          },
          "metadata": {},
          "execution_count": 3
        }
      ]
    },
    {
      "cell_type": "code",
      "source": [
        "root.attrib\n"
      ],
      "metadata": {
        "colab": {
          "base_uri": "https://localhost:8080/"
        },
        "id": "kelsrzXvzL0a",
        "outputId": "a40a8374-de82-42f9-dd3b-7e9747471651"
      },
      "execution_count": null,
      "outputs": [
        {
          "output_type": "execute_result",
          "data": {
            "text/plain": [
              "{}"
            ]
          },
          "metadata": {},
          "execution_count": 4
        }
      ]
    },
    {
      "cell_type": "code",
      "source": [
        "for child in root:\n",
        "    print(child.tag, child.attrib)\n"
      ],
      "metadata": {
        "colab": {
          "base_uri": "https://localhost:8080/"
        },
        "id": "_k7ktqGezRyw",
        "outputId": "b3ed20d8-6db3-4dbf-ec49-6e8792ed2631"
      },
      "execution_count": null,
      "outputs": [
        {
          "output_type": "stream",
          "name": "stdout",
          "text": [
            "genre {'category': 'Action'}\n",
            "genre {'category': 'Thriller'}\n",
            "genre {'category': 'Comedy'}\n"
          ]
        }
      ]
    },
    {
      "cell_type": "code",
      "source": [
        "[elem.tag for elem in root.iter()]\n"
      ],
      "metadata": {
        "colab": {
          "base_uri": "https://localhost:8080/"
        },
        "id": "_y5O1coqzWUn",
        "outputId": "306ac409-6ab7-464f-f0ee-81798f58c2b2"
      },
      "execution_count": null,
      "outputs": [
        {
          "output_type": "execute_result",
          "data": {
            "text/plain": [
              "['collection',\n",
              " 'genre',\n",
              " 'decade',\n",
              " 'movie',\n",
              " 'format',\n",
              " 'year',\n",
              " 'rating',\n",
              " 'description',\n",
              " 'movie',\n",
              " 'format',\n",
              " 'year',\n",
              " 'rating',\n",
              " 'description',\n",
              " 'movie',\n",
              " 'format',\n",
              " 'year',\n",
              " 'rating',\n",
              " 'description',\n",
              " 'decade',\n",
              " 'movie',\n",
              " 'format',\n",
              " 'year',\n",
              " 'rating',\n",
              " 'description',\n",
              " 'movie',\n",
              " 'format',\n",
              " 'year',\n",
              " 'rating',\n",
              " 'description',\n",
              " 'movie',\n",
              " 'format',\n",
              " 'year',\n",
              " 'rating',\n",
              " 'description',\n",
              " 'genre',\n",
              " 'decade',\n",
              " 'movie',\n",
              " 'format',\n",
              " 'year',\n",
              " 'rating',\n",
              " 'description',\n",
              " 'decade',\n",
              " 'movie',\n",
              " 'format',\n",
              " 'year',\n",
              " 'rating',\n",
              " 'description',\n",
              " 'movie',\n",
              " 'format',\n",
              " 'year',\n",
              " 'rating',\n",
              " 'description',\n",
              " 'genre',\n",
              " 'decade',\n",
              " 'movie',\n",
              " 'format',\n",
              " 'year',\n",
              " 'rating',\n",
              " 'description',\n",
              " 'decade',\n",
              " 'movie',\n",
              " 'format',\n",
              " 'year',\n",
              " 'rating',\n",
              " 'description',\n",
              " 'movie',\n",
              " 'format',\n",
              " 'year',\n",
              " 'rating',\n",
              " 'description',\n",
              " 'decade',\n",
              " 'movie',\n",
              " 'format',\n",
              " 'year',\n",
              " 'rating',\n",
              " 'description',\n",
              " 'decade',\n",
              " 'movie',\n",
              " 'format',\n",
              " 'year',\n",
              " 'rating',\n",
              " 'description']"
            ]
          },
          "metadata": {},
          "execution_count": 6
        }
      ]
    },
    {
      "cell_type": "code",
      "source": [
        "print(ET.tostring(root, encoding='utf8').decode('utf8'))\n"
      ],
      "metadata": {
        "colab": {
          "base_uri": "https://localhost:8080/"
        },
        "id": "vus-pPIuz9md",
        "outputId": "80a5db88-a5bb-431b-994f-e8a86c57a77c"
      },
      "execution_count": null,
      "outputs": [
        {
          "output_type": "stream",
          "name": "stdout",
          "text": [
            "<?xml version='1.0' encoding='utf8'?>\n",
            "<collection>\n",
            "\t<genre category=\"Action\">\n",
            "\t\t<decade years=\"1980s\">\n",
            "\t\t\t<movie favorite=\"True\" title=\"Indiana Jones: The raiders of the lost Ark\">\n",
            "\t\t\t\t<format multiple=\"No\">DVD</format>\n",
            "\t\t\t\t<year>1981</year>\n",
            "\t\t\t\t<rating>PG</rating>\n",
            "\t\t\t\t<description>\n",
            "\t\t\t\t'Archaeologist and adventurer Indiana Jones \n",
            "\t\t\t\tis hired by the U.S. government to find the Ark of the \n",
            "\t\t\t\tCovenant before the Nazis.'\n",
            "\t\t\t\t</description>\n",
            "\t\t\t</movie>\n",
            "\t\t   \t<movie favorite=\"True\" title=\"THE KARATE KID\">\n",
            "\t\t\t   <format multiple=\"Yes\">DVD,Online</format>\n",
            "\t\t\t   <year>1984</year>\n",
            "\t\t\t   <rating>PG</rating>\n",
            "\t\t\t   <description>None provided.</description>\n",
            "\t\t\t</movie>\n",
            "\t\t\t<movie favorite=\"False\" title=\"Back 2 the Future\">\n",
            "\t\t\t   <format multiple=\"False\">Blu-ray</format>\n",
            "\t\t\t   <year>1985</year>\n",
            "\t\t\t   <rating>PG</rating>\n",
            "\t\t\t   <description>Marty McFly</description>\n",
            "\t\t\t</movie>\n",
            "\t\t</decade>\n",
            "\t\t<decade years=\"1990s\">\n",
            "\t\t\t<movie favorite=\"False\" title=\"X-Men\">\n",
            "\t\t\t   <format multiple=\"Yes\">dvd, digital</format>\n",
            "\t\t\t   <year>2000</year>\n",
            "\t\t\t   <rating>PG-13</rating>\n",
            "\t\t\t   <description>Two mutants come to a private academy for their kind whose resident superhero team must \n",
            "\t\t\t   oppose a terrorist organization with similar powers.</description>\n",
            "\t\t\t</movie>\n",
            "\t\t\t<movie favorite=\"True\" title=\"Batman Returns\">\n",
            "\t\t\t   <format multiple=\"No\">VHS</format>\n",
            "\t\t\t   <year>1992</year>\n",
            "\t\t\t   <rating>PG13</rating>\n",
            "\t\t\t   <description>NA.</description>\n",
            "\t\t\t</movie>\n",
            "\t\t   \t<movie favorite=\"False\" title=\"Reservoir Dogs\">\n",
            "\t\t\t   <format multiple=\"No\">Online</format>\n",
            "\t\t\t   <year>1992</year>\n",
            "\t\t\t   <rating>R</rating>\n",
            "\t\t\t   <description>WhAtEvER I Want!!!?!</description>\n",
            "\t\t\t</movie>\n",
            "\t\t</decade>\t\n",
            "\t</genre>\n",
            "\t\n",
            "\t<genre category=\"Thriller\">\n",
            "\t\t<decade years=\"1970s\">\n",
            "\t\t\t<movie favorite=\"False\" title=\"ALIEN\">\n",
            "\t\t\t\t<format multiple=\"Yes\">DVD</format>\n",
            "\t\t\t\t<year>1979</year>\n",
            "\t\t\t\t<rating>R</rating>\n",
            "\t\t\t\t<description>\"\"\"\"\"\"\"\"\"</description>\n",
            "\t\t\t</movie>\n",
            "\t\t</decade>\n",
            "\t\t<decade years=\"1980s\">\n",
            "\t\t\t<movie favorite=\"True\" title=\"Ferris Bueller's Day Off\">\n",
            "\t\t\t\t<format multiple=\"No\">DVD</format>\n",
            "\t\t\t\t<year>1986</year>\n",
            "\t\t\t\t<rating>PG13</rating>\n",
            "\t\t\t\t<description>Funny movie about a funny guy</description>\n",
            "\t\t\t</movie>\n",
            "\t\t\t<movie favorite=\"FALSE\" title=\"American Psycho\">\n",
            "\t\t\t\t<format multiple=\"No\">blue-ray</format>\n",
            "\t\t\t\t<year>2000</year>\n",
            "\t\t\t\t<rating>Unrated</rating>\n",
            "\t\t\t\t<description>psychopathic Bateman</description>\n",
            "\t\t\t</movie>\n",
            "\t\t</decade>\n",
            "\t</genre>\n",
            "\t\n",
            "\t<genre category=\"Comedy\">\n",
            "\t\t<decade years=\"1960s\">\n",
            "\t\t\t<movie favorite=\"False\" title=\"Batman: The Movie\">\n",
            "\t\t\t\t<format multiple=\"Yes\">DVD,VHS</format>\n",
            "\t\t\t\t<year>1966</year>\n",
            "\t\t\t\t<rating>PG</rating>\n",
            "\t\t\t\t<description>What a joke!</description>\n",
            "\t\t\t</movie>\n",
            "\t\t</decade>\n",
            "\t\t<decade years=\"2010s\">\n",
            "\t\t\t<movie favorite=\"True\" title=\"Easy A\">\n",
            "\t\t\t\t<format multiple=\"No\">DVD</format>\n",
            "\t\t\t\t<year>2010</year>\n",
            "\t\t\t\t<rating>PG--13</rating>\n",
            "\t\t\t\t<description>Emma Stone = Hester Prynne</description>\n",
            "\t\t\t</movie>\n",
            "\t\t\t<movie favorite=\"True\" title=\"Dinner for SCHMUCKS\">\n",
            "\t\t\t\t<format multiple=\"Yes\">DVD,digital,Netflix</format>\n",
            "\t\t\t\t<year>2011</year>\n",
            "\t\t\t\t<rating>Unrated</rating>\n",
            "\t\t\t\t<description>Tim (Rudd) is a rising executive\n",
            "\t\t\t\t who “succeeds” in finding the perfect guest, \n",
            "\t\t\t\t IRS employee Barry (Carell), for his boss’ monthly event, \n",
            "\t\t\t\t a so-called “dinner for idiots,” which offers certain \n",
            "\t\t\t\t advantages to the exec who shows up with the biggest buffoon.\n",
            "\t\t\t\t </description>\n",
            "\t\t\t</movie>\n",
            "\t\t</decade>\n",
            "\t\t<decade years=\"1980s\">\n",
            "\t\t\t<movie favorite=\"False\" title=\"Ghostbusters\">\n",
            "\t\t\t\t<format multiple=\"No\">Online,VHS</format>\n",
            "\t\t\t\t<year>1984</year>\n",
            "\t\t\t\t<rating>PG</rating>\n",
            "\t\t\t\t<description>Who ya gonna call?</description>\n",
            "\t\t\t</movie>\n",
            "\t\t</decade>\n",
            "\t\t<decade years=\"1990s\">\n",
            "\t\t\t<movie favorite=\"True\" title=\"Robin Hood: Prince of Thieves\">\n",
            "\t\t\t\t<format multiple=\"No\">Blu_Ray</format>\n",
            "\t\t\t\t<year>1991</year>\n",
            "\t\t\t\t<rating>Unknown</rating>\n",
            "\t\t\t\t<description>Robin Hood slaying</description>\n",
            "\t\t\t</movie>\n",
            "\t\t</decade>\n",
            "\t</genre>\n",
            "</collection>\n"
          ]
        }
      ]
    },
    {
      "cell_type": "code",
      "source": [
        "for movie in root.iter('movie'):\n",
        "    print(movie.attrib)\n"
      ],
      "metadata": {
        "colab": {
          "base_uri": "https://localhost:8080/"
        },
        "id": "DV_OlK-w0D61",
        "outputId": "4513959f-5958-4479-919d-6064b790a286"
      },
      "execution_count": null,
      "outputs": [
        {
          "output_type": "stream",
          "name": "stdout",
          "text": [
            "{'favorite': 'True', 'title': 'Indiana Jones: The raiders of the lost Ark'}\n",
            "{'favorite': 'True', 'title': 'THE KARATE KID'}\n",
            "{'favorite': 'False', 'title': 'Back 2 the Future'}\n",
            "{'favorite': 'False', 'title': 'X-Men'}\n",
            "{'favorite': 'True', 'title': 'Batman Returns'}\n",
            "{'favorite': 'False', 'title': 'Reservoir Dogs'}\n",
            "{'favorite': 'False', 'title': 'ALIEN'}\n",
            "{'favorite': 'True', 'title': \"Ferris Bueller's Day Off\"}\n",
            "{'favorite': 'FALSE', 'title': 'American Psycho'}\n",
            "{'favorite': 'False', 'title': 'Batman: The Movie'}\n",
            "{'favorite': 'True', 'title': 'Easy A'}\n",
            "{'favorite': 'True', 'title': 'Dinner for SCHMUCKS'}\n",
            "{'favorite': 'False', 'title': 'Ghostbusters'}\n",
            "{'favorite': 'True', 'title': 'Robin Hood: Prince of Thieves'}\n"
          ]
        }
      ]
    },
    {
      "cell_type": "code",
      "source": [
        "for description in root.iter('description'):\n",
        "    print(description.text)"
      ],
      "metadata": {
        "colab": {
          "base_uri": "https://localhost:8080/"
        },
        "id": "ke8IiSwk0LOX",
        "outputId": "6e211ae6-641e-46c1-989c-4a4bb850c2b1"
      },
      "execution_count": null,
      "outputs": [
        {
          "output_type": "stream",
          "name": "stdout",
          "text": [
            "\n",
            "\t\t\t\t'Archaeologist and adventurer Indiana Jones \n",
            "\t\t\t\tis hired by the U.S. government to find the Ark of the \n",
            "\t\t\t\tCovenant before the Nazis.'\n",
            "\t\t\t\t\n",
            "None provided.\n",
            "Marty McFly\n",
            "Two mutants come to a private academy for their kind whose resident superhero team must \n",
            "\t\t\t   oppose a terrorist organization with similar powers.\n",
            "NA.\n",
            "WhAtEvER I Want!!!?!\n",
            "\"\"\"\"\"\"\"\"\"\n",
            "Funny movie about a funny guy\n",
            "psychopathic Bateman\n",
            "What a joke!\n",
            "Emma Stone = Hester Prynne\n",
            "Tim (Rudd) is a rising executive\n",
            "\t\t\t\t who “succeeds” in finding the perfect guest, \n",
            "\t\t\t\t IRS employee Barry (Carell), for his boss’ monthly event, \n",
            "\t\t\t\t a so-called “dinner for idiots,” which offers certain \n",
            "\t\t\t\t advantages to the exec who shows up with the biggest buffoon.\n",
            "\t\t\t\t \n",
            "Who ya gonna call?\n",
            "Robin Hood slaying\n"
          ]
        }
      ]
    },
    {
      "cell_type": "code",
      "source": [
        "for movie in root.findall(\"./genre/decade/movie/[year='1992']\"):\n",
        "    print(movie.attrib)\n"
      ],
      "metadata": {
        "colab": {
          "base_uri": "https://localhost:8080/"
        },
        "id": "UYpNDli_0Rt2",
        "outputId": "8a931f4c-1b21-481f-bf43-1ff5b018d62b"
      },
      "execution_count": null,
      "outputs": [
        {
          "output_type": "stream",
          "name": "stdout",
          "text": [
            "{'favorite': 'True', 'title': 'Batman Returns'}\n",
            "{'favorite': 'False', 'title': 'Reservoir Dogs'}\n"
          ]
        }
      ]
    },
    {
      "cell_type": "code",
      "source": [
        "for movie in root.findall(\"./genre/decade/movie/format/[@multiple='Yes']\"):\n",
        "    print(movie.attrib)\n"
      ],
      "metadata": {
        "colab": {
          "base_uri": "https://localhost:8080/"
        },
        "id": "L6rx6J5N0UM6",
        "outputId": "f19d5524-40c7-4172-b93d-855b674e054f"
      },
      "execution_count": null,
      "outputs": [
        {
          "output_type": "stream",
          "name": "stdout",
          "text": [
            "{'multiple': 'Yes'}\n",
            "{'multiple': 'Yes'}\n",
            "{'multiple': 'Yes'}\n",
            "{'multiple': 'Yes'}\n",
            "{'multiple': 'Yes'}\n"
          ]
        }
      ]
    },
    {
      "cell_type": "code",
      "source": [
        "for movie in root.findall(\"./genre/decade/movie/format[@multiple='Yes']...\"):\n",
        "    print(movie.attrib)\n"
      ],
      "metadata": {
        "colab": {
          "base_uri": "https://localhost:8080/"
        },
        "id": "9FWOOhLa0YA-",
        "outputId": "94201e40-2714-4310-9a9b-7b44e835e2ce"
      },
      "execution_count": null,
      "outputs": [
        {
          "output_type": "stream",
          "name": "stdout",
          "text": [
            "{'favorite': 'True', 'title': 'THE KARATE KID'}\n",
            "{'favorite': 'False', 'title': 'X-Men'}\n",
            "{'favorite': 'False', 'title': 'ALIEN'}\n",
            "{'favorite': 'False', 'title': 'Batman: The Movie'}\n",
            "{'favorite': 'True', 'title': 'Dinner for SCHMUCKS'}\n"
          ]
        }
      ]
    },
    {
      "cell_type": "code",
      "source": [
        "for movie in root.iter('movie'):\n",
        "    print(movie.attrib)\n"
      ],
      "metadata": {
        "colab": {
          "base_uri": "https://localhost:8080/"
        },
        "id": "gqH6oFnY0aKq",
        "outputId": "20577013-a379-4657-e237-b202a6618c7f"
      },
      "execution_count": null,
      "outputs": [
        {
          "output_type": "stream",
          "name": "stdout",
          "text": [
            "{'favorite': 'True', 'title': 'Indiana Jones: The raiders of the lost Ark'}\n",
            "{'favorite': 'True', 'title': 'THE KARATE KID'}\n",
            "{'favorite': 'False', 'title': 'Back 2 the Future'}\n",
            "{'favorite': 'False', 'title': 'X-Men'}\n",
            "{'favorite': 'True', 'title': 'Batman Returns'}\n",
            "{'favorite': 'False', 'title': 'Reservoir Dogs'}\n",
            "{'favorite': 'False', 'title': 'ALIEN'}\n",
            "{'favorite': 'True', 'title': \"Ferris Bueller's Day Off\"}\n",
            "{'favorite': 'FALSE', 'title': 'American Psycho'}\n",
            "{'favorite': 'False', 'title': 'Batman: The Movie'}\n",
            "{'favorite': 'True', 'title': 'Easy A'}\n",
            "{'favorite': 'True', 'title': 'Dinner for SCHMUCKS'}\n",
            "{'favorite': 'False', 'title': 'Ghostbusters'}\n",
            "{'favorite': 'True', 'title': 'Robin Hood: Prince of Thieves'}\n"
          ]
        }
      ]
    },
    {
      "cell_type": "code",
      "source": [
        "b2tf = root.find(\"./genre/decade/movie[@title='Back 2 the Future']\")\n",
        "print(b2tf)\n"
      ],
      "metadata": {
        "colab": {
          "base_uri": "https://localhost:8080/"
        },
        "id": "BVSvsH0S0cTR",
        "outputId": "38fdb2fb-21ec-4ceb-88d4-b0dcf0300ace"
      },
      "execution_count": null,
      "outputs": [
        {
          "output_type": "stream",
          "name": "stdout",
          "text": [
            "<Element 'movie' at 0x7eaf1614c130>\n"
          ]
        }
      ]
    },
    {
      "cell_type": "code",
      "source": [
        "b2tf.attrib[\"title\"] = \"Back to the Future\"\n",
        "print(b2tf.attrib)\n",
        "\n"
      ],
      "metadata": {
        "colab": {
          "base_uri": "https://localhost:8080/"
        },
        "id": "TfS9Xb680e2E",
        "outputId": "338931d5-f6c8-4059-c2f7-21dc9d81fc3d"
      },
      "execution_count": null,
      "outputs": [
        {
          "output_type": "stream",
          "name": "stdout",
          "text": [
            "{'favorite': 'False', 'title': 'Back to the Future'}\n"
          ]
        }
      ]
    },
    {
      "cell_type": "code",
      "source": [
        "tree.write(\"movies.xml\")\n",
        "\n",
        "tree = ET.parse('movies.xml')\n",
        "root = tree.getroot()\n",
        "\n",
        "for movie in root.iter('movie'):\n",
        "    print(movie.attrib)\n"
      ],
      "metadata": {
        "colab": {
          "base_uri": "https://localhost:8080/"
        },
        "id": "EaImmr-o0gp7",
        "outputId": "5c607f35-8592-4c67-9019-ec7e250a5267"
      },
      "execution_count": null,
      "outputs": [
        {
          "output_type": "stream",
          "name": "stdout",
          "text": [
            "{'favorite': 'True', 'title': 'Indiana Jones: The raiders of the lost Ark'}\n",
            "{'favorite': 'True', 'title': 'THE KARATE KID'}\n",
            "{'favorite': 'False', 'title': 'Back to the Future'}\n",
            "{'favorite': 'False', 'title': 'X-Men'}\n",
            "{'favorite': 'True', 'title': 'Batman Returns'}\n",
            "{'favorite': 'False', 'title': 'Reservoir Dogs'}\n",
            "{'favorite': 'False', 'title': 'ALIEN'}\n",
            "{'favorite': 'True', 'title': \"Ferris Bueller's Day Off\"}\n",
            "{'favorite': 'FALSE', 'title': 'American Psycho'}\n",
            "{'favorite': 'False', 'title': 'Batman: The Movie'}\n",
            "{'favorite': 'True', 'title': 'Easy A'}\n",
            "{'favorite': 'True', 'title': 'Dinner for SCHMUCKS'}\n",
            "{'favorite': 'False', 'title': 'Ghostbusters'}\n",
            "{'favorite': 'True', 'title': 'Robin Hood: Prince of Thieves'}\n"
          ]
        }
      ]
    },
    {
      "cell_type": "code",
      "source": [
        "for form in root.findall(\"./genre/decade/movie/format\"):\n",
        "    print(form.attrib, form.text)\n"
      ],
      "metadata": {
        "colab": {
          "base_uri": "https://localhost:8080/"
        },
        "id": "BBNqUNAm0nNH",
        "outputId": "e99de8c8-b548-4d54-c263-482a12b4fe5d"
      },
      "execution_count": null,
      "outputs": [
        {
          "output_type": "stream",
          "name": "stdout",
          "text": [
            "{'multiple': 'No'} DVD\n",
            "{'multiple': 'Yes'} DVD,Online\n",
            "{'multiple': 'False'} Blu-ray\n",
            "{'multiple': 'Yes'} dvd, digital\n",
            "{'multiple': 'No'} VHS\n",
            "{'multiple': 'No'} Online\n",
            "{'multiple': 'Yes'} DVD\n",
            "{'multiple': 'No'} DVD\n",
            "{'multiple': 'No'} blue-ray\n",
            "{'multiple': 'Yes'} DVD,VHS\n",
            "{'multiple': 'No'} DVD\n",
            "{'multiple': 'Yes'} DVD,digital,Netflix\n",
            "{'multiple': 'No'} Online,VHS\n",
            "{'multiple': 'No'} Blu_Ray\n"
          ]
        }
      ]
    },
    {
      "cell_type": "code",
      "source": [
        "import re\n",
        "\n",
        "for form in root.findall(\"./genre/decade/movie/format\"):\n",
        "    # Search for the commas in the format text\n",
        "    match = re.search(',',form.text)\n",
        "    if match:\n",
        "        form.set('multiple','Yes')\n",
        "    else:\n",
        "        form.set('multiple','No')\n",
        "\n",
        "# Write out the tree to the file again\n",
        "tree.write(\"movies.xml\")\n",
        "\n",
        "tree = ET.parse('movies.xml')\n",
        "root = tree.getroot()\n",
        "\n",
        "for form in root.findall(\"./genre/decade/movie/format\"):\n",
        "    print(form.attrib, form.text)\n"
      ],
      "metadata": {
        "colab": {
          "base_uri": "https://localhost:8080/"
        },
        "id": "aoUKeZ-_0qU9",
        "outputId": "cc1141e7-c92e-4001-94e8-3ff1ef016a9a"
      },
      "execution_count": null,
      "outputs": [
        {
          "output_type": "stream",
          "name": "stdout",
          "text": [
            "{'multiple': 'No'} DVD\n",
            "{'multiple': 'Yes'} DVD,Online\n",
            "{'multiple': 'No'} Blu-ray\n",
            "{'multiple': 'Yes'} dvd, digital\n",
            "{'multiple': 'No'} VHS\n",
            "{'multiple': 'No'} Online\n",
            "{'multiple': 'No'} DVD\n",
            "{'multiple': 'No'} DVD\n",
            "{'multiple': 'No'} blue-ray\n",
            "{'multiple': 'Yes'} DVD,VHS\n",
            "{'multiple': 'No'} DVD\n",
            "{'multiple': 'Yes'} DVD,digital,Netflix\n",
            "{'multiple': 'Yes'} Online,VHS\n",
            "{'multiple': 'No'} Blu_Ray\n"
          ]
        }
      ]
    },
    {
      "cell_type": "code",
      "source": [
        "for decade in root.findall(\"./genre/decade\"):\n",
        "    print(decade.attrib)\n",
        "    for year in decade.findall(\"./movie/year\"):\n",
        "        print(year.text, '\\n')\n"
      ],
      "metadata": {
        "colab": {
          "base_uri": "https://localhost:8080/"
        },
        "id": "3fHZfj7V0vHj",
        "outputId": "99d6483d-e093-4695-cd1a-802b80b8e75d"
      },
      "execution_count": null,
      "outputs": [
        {
          "output_type": "stream",
          "name": "stdout",
          "text": [
            "{'years': '1980s'}\n",
            "1981 \n",
            "\n",
            "1984 \n",
            "\n",
            "1985 \n",
            "\n",
            "{'years': '1990s'}\n",
            "2000 \n",
            "\n",
            "1992 \n",
            "\n",
            "1992 \n",
            "\n",
            "{'years': '1970s'}\n",
            "1979 \n",
            "\n",
            "{'years': '1980s'}\n",
            "1986 \n",
            "\n",
            "2000 \n",
            "\n",
            "{'years': '1960s'}\n",
            "1966 \n",
            "\n",
            "{'years': '2010s'}\n",
            "2010 \n",
            "\n",
            "2011 \n",
            "\n",
            "{'years': '1980s'}\n",
            "1984 \n",
            "\n",
            "{'years': '1990s'}\n",
            "1991 \n",
            "\n"
          ]
        }
      ]
    },
    {
      "cell_type": "code",
      "source": [
        "for movie in root.findall(\"./genre/decade/movie/[year='2000']\"):\n",
        "    print(movie.attrib)\n"
      ],
      "metadata": {
        "colab": {
          "base_uri": "https://localhost:8080/"
        },
        "id": "oJnolHu10xDb",
        "outputId": "92a08d7a-35a9-4eb6-d7b3-9d31ada93d8f"
      },
      "execution_count": null,
      "outputs": [
        {
          "output_type": "stream",
          "name": "stdout",
          "text": [
            "{'favorite': 'False', 'title': 'X-Men'}\n",
            "{'favorite': 'FALSE', 'title': 'American Psycho'}\n"
          ]
        }
      ]
    },
    {
      "cell_type": "code",
      "source": [
        "action = root.find(\"./genre[@category='Action']\")\n",
        "new_dec = ET.SubElement(action, 'decade')\n",
        "new_dec.attrib[\"years\"] = '2000s'\n",
        "\n",
        "print(ET.tostring(action, encoding='utf8').decode('utf8'))\n"
      ],
      "metadata": {
        "colab": {
          "base_uri": "https://localhost:8080/"
        },
        "id": "LI5HkYhY0zbd",
        "outputId": "d90e6a95-7d4e-485a-de90-25a427617451"
      },
      "execution_count": null,
      "outputs": [
        {
          "output_type": "stream",
          "name": "stdout",
          "text": [
            "<?xml version='1.0' encoding='utf8'?>\n",
            "<genre category=\"Action\">\n",
            "\t\t<decade years=\"1980s\">\n",
            "\t\t\t<movie favorite=\"True\" title=\"Indiana Jones: The raiders of the lost Ark\">\n",
            "\t\t\t\t<format multiple=\"No\">DVD</format>\n",
            "\t\t\t\t<year>1981</year>\n",
            "\t\t\t\t<rating>PG</rating>\n",
            "\t\t\t\t<description>\n",
            "\t\t\t\t'Archaeologist and adventurer Indiana Jones \n",
            "\t\t\t\tis hired by the U.S. government to find the Ark of the \n",
            "\t\t\t\tCovenant before the Nazis.'\n",
            "\t\t\t\t</description>\n",
            "\t\t\t</movie>\n",
            "\t\t   \t<movie favorite=\"True\" title=\"THE KARATE KID\">\n",
            "\t\t\t   <format multiple=\"Yes\">DVD,Online</format>\n",
            "\t\t\t   <year>1984</year>\n",
            "\t\t\t   <rating>PG</rating>\n",
            "\t\t\t   <description>None provided.</description>\n",
            "\t\t\t</movie>\n",
            "\t\t\t<movie favorite=\"False\" title=\"Back to the Future\">\n",
            "\t\t\t   <format multiple=\"No\">Blu-ray</format>\n",
            "\t\t\t   <year>1985</year>\n",
            "\t\t\t   <rating>PG</rating>\n",
            "\t\t\t   <description>Marty McFly</description>\n",
            "\t\t\t</movie>\n",
            "\t\t</decade>\n",
            "\t\t<decade years=\"1990s\">\n",
            "\t\t\t<movie favorite=\"False\" title=\"X-Men\">\n",
            "\t\t\t   <format multiple=\"Yes\">dvd, digital</format>\n",
            "\t\t\t   <year>2000</year>\n",
            "\t\t\t   <rating>PG-13</rating>\n",
            "\t\t\t   <description>Two mutants come to a private academy for their kind whose resident superhero team must \n",
            "\t\t\t   oppose a terrorist organization with similar powers.</description>\n",
            "\t\t\t</movie>\n",
            "\t\t\t<movie favorite=\"True\" title=\"Batman Returns\">\n",
            "\t\t\t   <format multiple=\"No\">VHS</format>\n",
            "\t\t\t   <year>1992</year>\n",
            "\t\t\t   <rating>PG13</rating>\n",
            "\t\t\t   <description>NA.</description>\n",
            "\t\t\t</movie>\n",
            "\t\t   \t<movie favorite=\"False\" title=\"Reservoir Dogs\">\n",
            "\t\t\t   <format multiple=\"No\">Online</format>\n",
            "\t\t\t   <year>1992</year>\n",
            "\t\t\t   <rating>R</rating>\n",
            "\t\t\t   <description>WhAtEvER I Want!!!?!</description>\n",
            "\t\t\t</movie>\n",
            "\t\t</decade>\t\n",
            "\t<decade years=\"2000s\" /></genre>\n",
            "\t\n",
            "\t\n"
          ]
        }
      ]
    },
    {
      "cell_type": "code",
      "source": [
        "xmen = root.find(\"./genre/decade/movie[@title='X-Men']\")\n",
        "dec2000s = root.find(\"./genre[@category='Action']/decade[@years='2000s']\")\n",
        "dec2000s.append(xmen)\n",
        "dec1990s = root.find(\"./genre[@category='Action']/decade[@years='1990s']\")\n",
        "dec1990s.remove(xmen)\n",
        "\n",
        "print(ET.tostring(action, encoding='utf8').decode('utf8'))\n"
      ],
      "metadata": {
        "colab": {
          "base_uri": "https://localhost:8080/"
        },
        "id": "QtOxbvye01m9",
        "outputId": "27f77386-147c-48a4-9ac5-18749d436d2b"
      },
      "execution_count": null,
      "outputs": [
        {
          "output_type": "stream",
          "name": "stdout",
          "text": [
            "<?xml version='1.0' encoding='utf8'?>\n",
            "<genre category=\"Action\">\n",
            "\t\t<decade years=\"1980s\">\n",
            "\t\t\t<movie favorite=\"True\" title=\"Indiana Jones: The raiders of the lost Ark\">\n",
            "\t\t\t\t<format multiple=\"No\">DVD</format>\n",
            "\t\t\t\t<year>1981</year>\n",
            "\t\t\t\t<rating>PG</rating>\n",
            "\t\t\t\t<description>\n",
            "\t\t\t\t'Archaeologist and adventurer Indiana Jones \n",
            "\t\t\t\tis hired by the U.S. government to find the Ark of the \n",
            "\t\t\t\tCovenant before the Nazis.'\n",
            "\t\t\t\t</description>\n",
            "\t\t\t</movie>\n",
            "\t\t   \t<movie favorite=\"True\" title=\"THE KARATE KID\">\n",
            "\t\t\t   <format multiple=\"Yes\">DVD,Online</format>\n",
            "\t\t\t   <year>1984</year>\n",
            "\t\t\t   <rating>PG</rating>\n",
            "\t\t\t   <description>None provided.</description>\n",
            "\t\t\t</movie>\n",
            "\t\t\t<movie favorite=\"False\" title=\"Back to the Future\">\n",
            "\t\t\t   <format multiple=\"No\">Blu-ray</format>\n",
            "\t\t\t   <year>1985</year>\n",
            "\t\t\t   <rating>PG</rating>\n",
            "\t\t\t   <description>Marty McFly</description>\n",
            "\t\t\t</movie>\n",
            "\t\t</decade>\n",
            "\t\t<decade years=\"1990s\">\n",
            "\t\t\t<movie favorite=\"True\" title=\"Batman Returns\">\n",
            "\t\t\t   <format multiple=\"No\">VHS</format>\n",
            "\t\t\t   <year>1992</year>\n",
            "\t\t\t   <rating>PG13</rating>\n",
            "\t\t\t   <description>NA.</description>\n",
            "\t\t\t</movie>\n",
            "\t\t   \t<movie favorite=\"False\" title=\"Reservoir Dogs\">\n",
            "\t\t\t   <format multiple=\"No\">Online</format>\n",
            "\t\t\t   <year>1992</year>\n",
            "\t\t\t   <rating>R</rating>\n",
            "\t\t\t   <description>WhAtEvER I Want!!!?!</description>\n",
            "\t\t\t</movie>\n",
            "\t\t</decade>\t\n",
            "\t<decade years=\"2000s\"><movie favorite=\"False\" title=\"X-Men\">\n",
            "\t\t\t   <format multiple=\"Yes\">dvd, digital</format>\n",
            "\t\t\t   <year>2000</year>\n",
            "\t\t\t   <rating>PG-13</rating>\n",
            "\t\t\t   <description>Two mutants come to a private academy for their kind whose resident superhero team must \n",
            "\t\t\t   oppose a terrorist organization with similar powers.</description>\n",
            "\t\t\t</movie>\n",
            "\t\t\t</decade></genre>\n",
            "\t\n",
            "\t\n"
          ]
        }
      ]
    },
    {
      "cell_type": "code",
      "source": [
        "tree.write(\"movies.xml\")\n",
        "\n",
        "tree = ET.parse('movies.xml')\n",
        "root = tree.getroot()\n",
        "\n",
        "print(ET.tostring(root, encoding='utf8').decode('utf8'))\n"
      ],
      "metadata": {
        "colab": {
          "base_uri": "https://localhost:8080/"
        },
        "id": "BXswiIS204KX",
        "outputId": "adcaa5c4-0ae2-4398-df19-12352d5d38be"
      },
      "execution_count": null,
      "outputs": [
        {
          "output_type": "stream",
          "name": "stdout",
          "text": [
            "<?xml version='1.0' encoding='utf8'?>\n",
            "<collection>\n",
            "\t<genre category=\"Action\">\n",
            "\t\t<decade years=\"1980s\">\n",
            "\t\t\t<movie favorite=\"True\" title=\"Indiana Jones: The raiders of the lost Ark\">\n",
            "\t\t\t\t<format multiple=\"No\">DVD</format>\n",
            "\t\t\t\t<year>1981</year>\n",
            "\t\t\t\t<rating>PG</rating>\n",
            "\t\t\t\t<description>\n",
            "\t\t\t\t'Archaeologist and adventurer Indiana Jones \n",
            "\t\t\t\tis hired by the U.S. government to find the Ark of the \n",
            "\t\t\t\tCovenant before the Nazis.'\n",
            "\t\t\t\t</description>\n",
            "\t\t\t</movie>\n",
            "\t\t   \t<movie favorite=\"True\" title=\"THE KARATE KID\">\n",
            "\t\t\t   <format multiple=\"Yes\">DVD,Online</format>\n",
            "\t\t\t   <year>1984</year>\n",
            "\t\t\t   <rating>PG</rating>\n",
            "\t\t\t   <description>None provided.</description>\n",
            "\t\t\t</movie>\n",
            "\t\t\t<movie favorite=\"False\" title=\"Back to the Future\">\n",
            "\t\t\t   <format multiple=\"No\">Blu-ray</format>\n",
            "\t\t\t   <year>1985</year>\n",
            "\t\t\t   <rating>PG</rating>\n",
            "\t\t\t   <description>Marty McFly</description>\n",
            "\t\t\t</movie>\n",
            "\t\t</decade>\n",
            "\t\t<decade years=\"1990s\">\n",
            "\t\t\t<movie favorite=\"True\" title=\"Batman Returns\">\n",
            "\t\t\t   <format multiple=\"No\">VHS</format>\n",
            "\t\t\t   <year>1992</year>\n",
            "\t\t\t   <rating>PG13</rating>\n",
            "\t\t\t   <description>NA.</description>\n",
            "\t\t\t</movie>\n",
            "\t\t   \t<movie favorite=\"False\" title=\"Reservoir Dogs\">\n",
            "\t\t\t   <format multiple=\"No\">Online</format>\n",
            "\t\t\t   <year>1992</year>\n",
            "\t\t\t   <rating>R</rating>\n",
            "\t\t\t   <description>WhAtEvER I Want!!!?!</description>\n",
            "\t\t\t</movie>\n",
            "\t\t</decade>\t\n",
            "\t<decade years=\"2000s\"><movie favorite=\"False\" title=\"X-Men\">\n",
            "\t\t\t   <format multiple=\"Yes\">dvd, digital</format>\n",
            "\t\t\t   <year>2000</year>\n",
            "\t\t\t   <rating>PG-13</rating>\n",
            "\t\t\t   <description>Two mutants come to a private academy for their kind whose resident superhero team must \n",
            "\t\t\t   oppose a terrorist organization with similar powers.</description>\n",
            "\t\t\t</movie>\n",
            "\t\t\t</decade></genre>\n",
            "\t\n",
            "\t<genre category=\"Thriller\">\n",
            "\t\t<decade years=\"1970s\">\n",
            "\t\t\t<movie favorite=\"False\" title=\"ALIEN\">\n",
            "\t\t\t\t<format multiple=\"No\">DVD</format>\n",
            "\t\t\t\t<year>1979</year>\n",
            "\t\t\t\t<rating>R</rating>\n",
            "\t\t\t\t<description>\"\"\"\"\"\"\"\"\"</description>\n",
            "\t\t\t</movie>\n",
            "\t\t</decade>\n",
            "\t\t<decade years=\"1980s\">\n",
            "\t\t\t<movie favorite=\"True\" title=\"Ferris Bueller's Day Off\">\n",
            "\t\t\t\t<format multiple=\"No\">DVD</format>\n",
            "\t\t\t\t<year>1986</year>\n",
            "\t\t\t\t<rating>PG13</rating>\n",
            "\t\t\t\t<description>Funny movie about a funny guy</description>\n",
            "\t\t\t</movie>\n",
            "\t\t\t<movie favorite=\"FALSE\" title=\"American Psycho\">\n",
            "\t\t\t\t<format multiple=\"No\">blue-ray</format>\n",
            "\t\t\t\t<year>2000</year>\n",
            "\t\t\t\t<rating>Unrated</rating>\n",
            "\t\t\t\t<description>psychopathic Bateman</description>\n",
            "\t\t\t</movie>\n",
            "\t\t</decade>\n",
            "\t</genre>\n",
            "\t\n",
            "\t<genre category=\"Comedy\">\n",
            "\t\t<decade years=\"1960s\">\n",
            "\t\t\t<movie favorite=\"False\" title=\"Batman: The Movie\">\n",
            "\t\t\t\t<format multiple=\"Yes\">DVD,VHS</format>\n",
            "\t\t\t\t<year>1966</year>\n",
            "\t\t\t\t<rating>PG</rating>\n",
            "\t\t\t\t<description>What a joke!</description>\n",
            "\t\t\t</movie>\n",
            "\t\t</decade>\n",
            "\t\t<decade years=\"2010s\">\n",
            "\t\t\t<movie favorite=\"True\" title=\"Easy A\">\n",
            "\t\t\t\t<format multiple=\"No\">DVD</format>\n",
            "\t\t\t\t<year>2010</year>\n",
            "\t\t\t\t<rating>PG--13</rating>\n",
            "\t\t\t\t<description>Emma Stone = Hester Prynne</description>\n",
            "\t\t\t</movie>\n",
            "\t\t\t<movie favorite=\"True\" title=\"Dinner for SCHMUCKS\">\n",
            "\t\t\t\t<format multiple=\"Yes\">DVD,digital,Netflix</format>\n",
            "\t\t\t\t<year>2011</year>\n",
            "\t\t\t\t<rating>Unrated</rating>\n",
            "\t\t\t\t<description>Tim (Rudd) is a rising executive\n",
            "\t\t\t\t who “succeeds” in finding the perfect guest, \n",
            "\t\t\t\t IRS employee Barry (Carell), for his boss’ monthly event, \n",
            "\t\t\t\t a so-called “dinner for idiots,” which offers certain \n",
            "\t\t\t\t advantages to the exec who shows up with the biggest buffoon.\n",
            "\t\t\t\t </description>\n",
            "\t\t\t</movie>\n",
            "\t\t</decade>\n",
            "\t\t<decade years=\"1980s\">\n",
            "\t\t\t<movie favorite=\"False\" title=\"Ghostbusters\">\n",
            "\t\t\t\t<format multiple=\"Yes\">Online,VHS</format>\n",
            "\t\t\t\t<year>1984</year>\n",
            "\t\t\t\t<rating>PG</rating>\n",
            "\t\t\t\t<description>Who ya gonna call?</description>\n",
            "\t\t\t</movie>\n",
            "\t\t</decade>\n",
            "\t\t<decade years=\"1990s\">\n",
            "\t\t\t<movie favorite=\"True\" title=\"Robin Hood: Prince of Thieves\">\n",
            "\t\t\t\t<format multiple=\"No\">Blu_Ray</format>\n",
            "\t\t\t\t<year>1991</year>\n",
            "\t\t\t\t<rating>Unknown</rating>\n",
            "\t\t\t\t<description>Robin Hood slaying</description>\n",
            "\t\t\t</movie>\n",
            "\t\t</decade>\n",
            "\t</genre>\n",
            "</collection>\n"
          ]
        }
      ]
    },
    {
      "cell_type": "code",
      "source": [],
      "metadata": {
        "id": "f51PqWvG07qI"
      },
      "execution_count": null,
      "outputs": []
    }
  ]
}